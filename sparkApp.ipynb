{
  "nbformat": 4,
  "nbformat_minor": 0,
  "metadata": {
    "colab": {
      "provenance": [],
      "authorship_tag": "ABX9TyMt3HS8F3m+t7vtMP6W1mVe",
      "include_colab_link": true
    },
    "kernelspec": {
      "name": "python3",
      "display_name": "Python 3"
    },
    "language_info": {
      "name": "python"
    }
  },
  "cells": [
    {
      "cell_type": "markdown",
      "metadata": {
        "id": "view-in-github",
        "colab_type": "text"
      },
      "source": [
        "<a href=\"https://colab.research.google.com/github/Ibraheem101/dezoomcamp/blob/main/sparkApp.ipynb\" target=\"_parent\"><img src=\"https://colab.research.google.com/assets/colab-badge.svg\" alt=\"Open In Colab\"/></a>"
      ]
    },
    {
      "cell_type": "code",
      "source": [
        "pip install pyspark"
      ],
      "metadata": {
        "colab": {
          "base_uri": "https://localhost:8080/"
        },
        "id": "CnimQwoH9cGH",
        "outputId": "773e4b77-9bea-40b6-acbb-7f63069f02f1"
      },
      "execution_count": 1,
      "outputs": [
        {
          "output_type": "stream",
          "name": "stdout",
          "text": [
            "Requirement already satisfied: pyspark in /usr/local/lib/python3.11/dist-packages (3.5.5)\n",
            "Requirement already satisfied: py4j==0.10.9.7 in /usr/local/lib/python3.11/dist-packages (from pyspark) (0.10.9.7)\n"
          ]
        }
      ]
    },
    {
      "cell_type": "code",
      "execution_count": 2,
      "metadata": {
        "colab": {
          "base_uri": "https://localhost:8080/"
        },
        "id": "XtCmHstf7HzT",
        "outputId": "7aea2a0a-e23c-43fd-b53b-ee58ef0c8bef"
      },
      "outputs": [
        {
          "output_type": "stream",
          "name": "stdout",
          "text": [
            "Welcome to\n",
            "      ____              __\n",
            "     / __/__  ___ _____/ /__\n",
            "    _\\ \\/ _ \\/ _ `/ __/  '_/\n",
            "   /___/ .__/\\_,_/_/ /_/\\_\\   version 3.5.5\n",
            "      /_/\n",
            "                        \n",
            "Using Scala version 2.12.18, OpenJDK 64-Bit Server VM, 11.0.26\n",
            "Branch HEAD\n",
            "Compiled by user ubuntu on 2025-02-23T20:30:46Z\n",
            "Revision 7c29c664cdc9321205a98a14858aaf8daaa19db2\n",
            "Url https://github.com/apache/spark\n",
            "Type --help for more information.\n"
          ]
        }
      ],
      "source": [
        "! pyspark --version"
      ]
    },
    {
      "cell_type": "code",
      "source": [
        "from pyspark.sql import SparkSession\n",
        "from pyspark.sql import functions as F\n",
        "from pyspark.sql.types import StructType, StructField, IntegerType, StringType"
      ],
      "metadata": {
        "id": "pd7euazF9Umx"
      },
      "execution_count": 3,
      "outputs": []
    },
    {
      "cell_type": "code",
      "source": [
        "spark = SparkSession.builder.appName('testApp').getOrCreate()"
      ],
      "metadata": {
        "id": "zr8OwUNA-HUQ"
      },
      "execution_count": 4,
      "outputs": []
    },
    {
      "cell_type": "code",
      "source": [
        "# Define schema for dataframe\n",
        "schema = StructType([\n",
        "    StructField(\"userID\", IntegerType(), True),\n",
        "    StructField(\"name\", StringType(), True),\n",
        "    StructField(\"age\", IntegerType(), True),\n",
        "    StructField(\"friends\", IntegerType(), True)\n",
        "])"
      ],
      "metadata": {
        "id": "DUXM6h_k-4EO"
      },
      "execution_count": 5,
      "outputs": []
    },
    {
      "cell_type": "code",
      "source": [
        "print(schema)"
      ],
      "metadata": {
        "colab": {
          "base_uri": "https://localhost:8080/"
        },
        "id": "jSJC8AKGAbBh",
        "outputId": "13816845-892d-4abf-eacc-057c77b1e1f0"
      },
      "execution_count": 6,
      "outputs": [
        {
          "output_type": "stream",
          "name": "stdout",
          "text": [
            "StructType([StructField('userID', IntegerType(), True), StructField('name', StringType(), True), StructField('age', IntegerType(), True), StructField('friends', IntegerType(), True)])\n"
          ]
        }
      ]
    },
    {
      "cell_type": "code",
      "source": [
        "! mkdir -p data\n",
        "! wget -O data/fakefriends.csv https://raw.githubusercontent.com/ashaypatil11/spark/main/fakefriends.csv"
      ],
      "metadata": {
        "colab": {
          "base_uri": "https://localhost:8080/"
        },
        "id": "n3nEa4dkRoDz",
        "outputId": "70fa2022-a25b-4737-9637-c403cfbdf5e2"
      },
      "execution_count": 7,
      "outputs": [
        {
          "output_type": "stream",
          "name": "stdout",
          "text": [
            "--2025-04-04 20:36:39--  https://raw.githubusercontent.com/ashaypatil11/spark/main/fakefriends.csv\n",
            "Resolving raw.githubusercontent.com (raw.githubusercontent.com)... 185.199.108.133, 185.199.109.133, 185.199.110.133, ...\n",
            "Connecting to raw.githubusercontent.com (raw.githubusercontent.com)|185.199.108.133|:443... connected.\n",
            "HTTP request sent, awaiting response... 200 OK\n",
            "Length: 8754 (8.5K) [text/plain]\n",
            "Saving to: ‘data/fakefriends.csv’\n",
            "\n",
            "\rdata/fakefriends.cs   0%[                    ]       0  --.-KB/s               \rdata/fakefriends.cs 100%[===================>]   8.55K  --.-KB/s    in 0s      \n",
            "\n",
            "2025-04-04 20:36:39 (55.7 MB/s) - ‘data/fakefriends.csv’ saved [8754/8754]\n",
            "\n"
          ]
        }
      ]
    },
    {
      "cell_type": "code",
      "source": [
        "# Create dataframe on a csv file\n",
        "df = spark.read.format(\"csv\") \\\n",
        "    .schema(schema) \\\n",
        "    .option(\"path\", \"data/fakefriends.csv\") \\\n",
        "    .load()"
      ],
      "metadata": {
        "id": "NXFP-AM7AcZv"
      },
      "execution_count": 8,
      "outputs": []
    },
    {
      "cell_type": "code",
      "source": [
        "df.show()"
      ],
      "metadata": {
        "id": "ROE08B_WSocf",
        "outputId": "5e7638b9-7da1-447e-8409-0e6720dcc4e2",
        "colab": {
          "base_uri": "https://localhost:8080/"
        }
      },
      "execution_count": 9,
      "outputs": [
        {
          "output_type": "stream",
          "name": "stdout",
          "text": [
            "+------+--------+---+-------+\n",
            "|userID|    name|age|friends|\n",
            "+------+--------+---+-------+\n",
            "|     0|    Will| 33|    385|\n",
            "|     1|Jean-Luc| 26|      2|\n",
            "|     2|    Hugh| 55|    221|\n",
            "|     3|  Deanna| 40|    465|\n",
            "|     4|   Quark| 68|     21|\n",
            "|     5|  Weyoun| 59|    318|\n",
            "|     6|  Gowron| 37|    220|\n",
            "|     7|    Will| 54|    307|\n",
            "|     8|  Jadzia| 38|    380|\n",
            "|     9|    Hugh| 27|    181|\n",
            "|    10|     Odo| 53|    191|\n",
            "|    11|     Ben| 57|    372|\n",
            "|    12|   Keiko| 54|    253|\n",
            "|    13|Jean-Luc| 56|    444|\n",
            "|    14|    Hugh| 43|     49|\n",
            "|    15|     Rom| 36|     49|\n",
            "|    16|  Weyoun| 22|    323|\n",
            "|    17|     Odo| 35|     13|\n",
            "|    18|Jean-Luc| 45|    455|\n",
            "|    19|  Geordi| 60|    246|\n",
            "+------+--------+---+-------+\n",
            "only showing top 20 rows\n",
            "\n"
          ]
        }
      ]
    },
    {
      "cell_type": "code",
      "source": [],
      "metadata": {
        "id": "nljw4r7ySqVX"
      },
      "execution_count": 9,
      "outputs": []
    }
  ]
}